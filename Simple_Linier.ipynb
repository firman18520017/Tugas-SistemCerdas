{
  "nbformat": 4,
  "nbformat_minor": 0,
  "metadata": {
    "colab": {
      "name": "Simple Linier.ipynb",
      "provenance": []
    },
    "kernelspec": {
      "name": "python3",
      "display_name": "Python 3"
    },
    "language_info": {
      "name": "python"
    }
  },
  "cells": [
    {
      "cell_type": "markdown",
      "metadata": {
        "id": "KtaW0XO4ZzHX"
      },
      "source": [
        "**Simple Linier Regression** Data Set"
      ]
    },
    {
      "cell_type": "code",
      "metadata": {
        "colab": {
          "base_uri": "https://localhost:8080/",
          "height": 204
        },
        "id": "82NeR15EXvsj",
        "outputId": "6d59d19c-fe41-46c7-8103-57cfe7e02074"
      },
      "source": [
        "import pandas as pd\n",
        "\n",
        "bola = {'diameter' : [6,8,10,14,18],\n",
        "        'harga' : [7,9,13,17.5,20]}\n",
        "\n",
        "bola_df = pd.DataFrame(bola)\n",
        "bola_df"
      ],
      "execution_count": 35,
      "outputs": [
        {
          "output_type": "execute_result",
          "data": {
            "text/html": [
              "<div>\n",
              "<style scoped>\n",
              "    .dataframe tbody tr th:only-of-type {\n",
              "        vertical-align: middle;\n",
              "    }\n",
              "\n",
              "    .dataframe tbody tr th {\n",
              "        vertical-align: top;\n",
              "    }\n",
              "\n",
              "    .dataframe thead th {\n",
              "        text-align: right;\n",
              "    }\n",
              "</style>\n",
              "<table border=\"1\" class=\"dataframe\">\n",
              "  <thead>\n",
              "    <tr style=\"text-align: right;\">\n",
              "      <th></th>\n",
              "      <th>diameter</th>\n",
              "      <th>harga</th>\n",
              "    </tr>\n",
              "  </thead>\n",
              "  <tbody>\n",
              "    <tr>\n",
              "      <th>0</th>\n",
              "      <td>6</td>\n",
              "      <td>7.0</td>\n",
              "    </tr>\n",
              "    <tr>\n",
              "      <th>1</th>\n",
              "      <td>8</td>\n",
              "      <td>9.0</td>\n",
              "    </tr>\n",
              "    <tr>\n",
              "      <th>2</th>\n",
              "      <td>10</td>\n",
              "      <td>13.0</td>\n",
              "    </tr>\n",
              "    <tr>\n",
              "      <th>3</th>\n",
              "      <td>14</td>\n",
              "      <td>17.5</td>\n",
              "    </tr>\n",
              "    <tr>\n",
              "      <th>4</th>\n",
              "      <td>18</td>\n",
              "      <td>20.0</td>\n",
              "    </tr>\n",
              "  </tbody>\n",
              "</table>\n",
              "</div>"
            ],
            "text/plain": [
              "   diameter  harga\n",
              "0         6    7.0\n",
              "1         8    9.0\n",
              "2        10   13.0\n",
              "3        14   17.5\n",
              "4        18   20.0"
            ]
          },
          "metadata": {},
          "execution_count": 35
        }
      ]
    },
    {
      "cell_type": "code",
      "metadata": {
        "colab": {
          "base_uri": "https://localhost:8080/",
          "height": 312
        },
        "id": "oXF65BttYrla",
        "outputId": "ea13b1c7-0f22-480c-f961-8ca3198e10cc"
      },
      "source": [
        "import matplotlib.pyplot as plt\n",
        "\n",
        "bola_df.plot(kind='scatter', x='diameter', y='harga')\n",
        "\n",
        "plt.title('Perbandingan Diameter dan Harga Bola')\n",
        "plt.xlabel('Diameter (inchi)')\n",
        "plt.ylabel('Harga(dollar)')\n",
        "plt.xlim(0,25)\n",
        "plt.ylim(0,25)\n",
        "plt.grid(True)\n",
        "plt.show"
      ],
      "execution_count": 36,
      "outputs": [
        {
          "output_type": "execute_result",
          "data": {
            "text/plain": [
              "<function matplotlib.pyplot.show>"
            ]
          },
          "metadata": {},
          "execution_count": 36
        },
        {
          "output_type": "display_data",
          "data": {
            "image/png": "[encoded data removed]",
            "text/plain": [
              "<Figure size 432x288 with 1 Axes>"
            ]
          },
          "metadata": {
            "needs_background": "light"
          }
        }
      ]
    },
    {
      "cell_type": "markdown",
      "metadata": {
        "id": "M5n78fzsaXkp"
      },
      "source": [
        "**Model Simple Linier Regression**"
      ]
    },
    {
      "cell_type": "markdown",
      "metadata": {
        "id": "i0EG5Wpxac5D"
      },
      "source": [
        "1. Penyesuaian Dataset"
      ]
    },
    {
      "cell_type": "code",
      "metadata": {
        "colab": {
          "base_uri": "https://localhost:8080/"
        },
        "id": "sEiOjeb8Zm-a",
        "outputId": "b25e5397-0bbf-4328-8d22-10c16dda8597"
      },
      "source": [
        "import numpy as np\n",
        "\n",
        "x = np.array(bola_df['diameter'])\n",
        "y = np.array(bola_df['harga'])\n",
        "\n",
        "print(f'x : {x}')\n",
        "print(f'y : {y}')"
      ],
      "execution_count": 37,
      "outputs": [
        {
          "output_type": "stream",
          "name": "stdout",
          "text": [
            "x : [ 6  8 10 14 18]\n",
            "y : [ 7.   9.  13.  17.5 20. ]\n"
          ]
        }
      ]
    },
    {
      "cell_type": "code",
      "metadata": {
        "colab": {
          "base_uri": "https://localhost:8080/"
        },
        "id": "mFNxuGT2a18b",
        "outputId": "0635ff16-9995-4530-8700-b8fed54c5568"
      },
      "source": [
        "X = x.reshape(-1,1)\n",
        "X.shape"
      ],
      "execution_count": 38,
      "outputs": [
        {
          "output_type": "execute_result",
          "data": {
            "text/plain": [
              "(5, 1)"
            ]
          },
          "metadata": {},
          "execution_count": 38
        }
      ]
    },
    {
      "cell_type": "code",
      "metadata": {
        "colab": {
          "base_uri": "https://localhost:8080/"
        },
        "id": "n7lUXY2Ba6dV",
        "outputId": "5a59edfc-1162-4a49-9b08-be30312b6739"
      },
      "source": [
        "X"
      ],
      "execution_count": 39,
      "outputs": [
        {
          "output_type": "execute_result",
          "data": {
            "text/plain": [
              "array([[ 6],\n",
              "       [ 8],\n",
              "       [10],\n",
              "       [14],\n",
              "       [18]])"
            ]
          },
          "metadata": {},
          "execution_count": 39
        }
      ]
    },
    {
      "cell_type": "markdown",
      "metadata": {
        "id": "0h5jWUoQbB2B"
      },
      "source": [
        "**Training Simple Linier Regression Model**"
      ]
    },
    {
      "cell_type": "code",
      "metadata": {
        "colab": {
          "base_uri": "https://localhost:8080/"
        },
        "id": "H3yPkn31a7DR",
        "outputId": "58d417e8-e96c-45fa-ae9a-b3b6d3d5a70b"
      },
      "source": [
        "from sklearn.linear_model import LinearRegression\n",
        "\n",
        "model = LinearRegression()\n",
        "model.fit(X, y)"
      ],
      "execution_count": 40,
      "outputs": [
        {
          "output_type": "execute_result",
          "data": {
            "text/plain": [
              "LinearRegression(copy_X=True, fit_intercept=True, n_jobs=None, normalize=False)"
            ]
          },
          "metadata": {},
          "execution_count": 40
        }
      ]
    },
    {
      "cell_type": "markdown",
      "metadata": {
        "id": "cPAnAyIDboW7"
      },
      "source": [
        "**Visualisasi Simple Linier Regression Model**"
      ]
    },
    {
      "cell_type": "code",
      "metadata": {
        "id": "K-4VvWYUbbnK"
      },
      "source": [
        "X_vis = np.array([0, 25]).reshape(-1,1)\n",
        "y_vis = model.predict(X_vis)"
      ],
      "execution_count": 41,
      "outputs": []
    },
    {
      "cell_type": "code",
      "metadata": {
        "colab": {
          "base_uri": "https://localhost:8080/",
          "height": 295
        },
        "id": "KjIP4XIxb6Gh",
        "outputId": "0d7827b9-7583-4836-8a80-3f2713135b91"
      },
      "source": [
        "plt.scatter(X, y)\n",
        "plt.plot(X_vis, y_vis, '-r')\n",
        "\n",
        "plt.title('Perbandingan diameter dan harga bola')\n",
        "plt.xlabel('Diameter (inchi)')\n",
        "plt.ylabel('Harga (dollar)')\n",
        "plt.xlim(0,25)\n",
        "plt.ylim(0,25)\n",
        "plt.grid()\n",
        "plt.show()"
      ],
      "execution_count": 42,
      "outputs": [
        {
          "output_type": "display_data",
          "data": {
            "image/png": "[encoded data removed]",
            "text/plain": [
              "<Figure size 432x288 with 1 Axes>"
            ]
          },
          "metadata": {
            "needs_background": "light"
          }
        }
      ]
    },
    {
      "cell_type": "code",
      "metadata": {
        "colab": {
          "base_uri": "https://localhost:8080/"
        },
        "id": "v3WNwyp7cyVV",
        "outputId": "beb9aed1-a97a-4299-eae4-3434882b20d9"
      },
      "source": [
        "print(f'intercept: {model.intercept_}')\n",
        "print(f'slope. {model.coef_}')"
      ],
      "execution_count": 43,
      "outputs": [
        {
          "output_type": "stream",
          "name": "stdout",
          "text": [
            "intercept: 0.7241379310344875\n",
            "slope. [1.12284483]\n"
          ]
        }
      ]
    },
    {
      "cell_type": "markdown",
      "metadata": {
        "id": "GvJHB84rdIvE"
      },
      "source": [
        "**Mencari Nilai Slope**"
      ]
    },
    {
      "cell_type": "code",
      "metadata": {
        "colab": {
          "base_uri": "https://localhost:8080/"
        },
        "id": "Db9gRQNmdCVh",
        "outputId": "5a7a158c-cbee-47ed-91f3-b5f2f07ad370"
      },
      "source": [
        "print(f'X:\\n{X}\\n')\n",
        "print(f'X flatten: {X.flatten()}\\n')\n",
        "print(f'y: {y}')"
      ],
      "execution_count": 44,
      "outputs": [
        {
          "output_type": "stream",
          "name": "stdout",
          "text": [
            "X:\n",
            "[[ 6]\n",
            " [ 8]\n",
            " [10]\n",
            " [14]\n",
            " [18]]\n",
            "\n",
            "X flatten: [ 6  8 10 14 18]\n",
            "\n",
            "y: [ 7.   9.  13.  17.5 20. ]\n"
          ]
        }
      ]
    },
    {
      "cell_type": "markdown",
      "metadata": {
        "id": "1leVXutvdrmO"
      },
      "source": [
        "**Variance**"
      ]
    },
    {
      "cell_type": "code",
      "metadata": {
        "colab": {
          "base_uri": "https://localhost:8080/"
        },
        "id": "peJ45Dw-dn1B",
        "outputId": "12d4c450-1506-40dc-fbde-c0b42d46f687"
      },
      "source": [
        "variance_x = np.var(X.flatten(), ddof=1)\n",
        "\n",
        "print(f'variance: {variance_x}')"
      ],
      "execution_count": 45,
      "outputs": [
        {
          "output_type": "stream",
          "name": "stdout",
          "text": [
            "variance: 23.2\n"
          ]
        }
      ]
    },
    {
      "cell_type": "markdown",
      "metadata": {
        "id": "fTwOisZ3d63f"
      },
      "source": [
        "**Covariance**"
      ]
    },
    {
      "cell_type": "code",
      "metadata": {
        "colab": {
          "base_uri": "https://localhost:8080/"
        },
        "id": "nAYsZOf4d5Bn",
        "outputId": "eca79ef1-4e20-4d8b-8d85-f98ab523b1fd"
      },
      "source": [
        "np.cov(X.flatten(), y)"
      ],
      "execution_count": 46,
      "outputs": [
        {
          "output_type": "execute_result",
          "data": {
            "text/plain": [
              "array([[23.2 , 26.05],\n",
              "       [26.05, 30.2 ]])"
            ]
          },
          "metadata": {},
          "execution_count": 46
        }
      ]
    },
    {
      "cell_type": "code",
      "metadata": {
        "colab": {
          "base_uri": "https://localhost:8080/"
        },
        "id": "6eon4DwJqANF",
        "outputId": "49417a06-1cb9-46e1-9e7e-3ac693d173dc"
      },
      "source": [
        "covariance_xy = np.cov(X.flatten(), y)[0][1]\n",
        "\n",
        "print(f'covarience: {covariance_xy}')"
      ],
      "execution_count": 47,
      "outputs": [
        {
          "output_type": "stream",
          "name": "stdout",
          "text": [
            "covarience: 26.049999999999997\n"
          ]
        }
      ]
    },
    {
      "cell_type": "markdown",
      "metadata": {
        "id": "swPELYMFqvvS"
      },
      "source": [
        "**Nilai Slope**"
      ]
    },
    {
      "cell_type": "code",
      "metadata": {
        "colab": {
          "base_uri": "https://localhost:8080/"
        },
        "id": "o0YOhIHNqnqL",
        "outputId": "f1588654-ee99-42f5-ad65-1c85c1ab0d97"
      },
      "source": [
        "slope = covariance_xy / variance_x\n",
        "\n",
        "print(f'slope: {slope}')"
      ],
      "execution_count": 48,
      "outputs": [
        {
          "output_type": "stream",
          "name": "stdout",
          "text": [
            "slope: 1.1228448275862069\n"
          ]
        }
      ]
    },
    {
      "cell_type": "markdown",
      "metadata": {
        "id": "NLq0aF9rq_Qc"
      },
      "source": [
        "**Mencari nilai Intercept**"
      ]
    },
    {
      "cell_type": "code",
      "metadata": {
        "colab": {
          "base_uri": "https://localhost:8080/"
        },
        "id": "nGXrG8rSq8wQ",
        "outputId": "94aa49a7-ee85-4a67-ad00-db49cc131a7d"
      },
      "source": [
        "intercept = np.mean(y) - slope * np.mean(X)\n",
        "\n",
        "print(f'intercept:{intercept}')"
      ],
      "execution_count": 49,
      "outputs": [
        {
          "output_type": "stream",
          "name": "stdout",
          "text": [
            "intercept:0.724137931034484\n"
          ]
        }
      ]
    },
    {
      "cell_type": "markdown",
      "metadata": {
        "id": "WUEDc7XvsSpr"
      },
      "source": [
        "**Prediksi harga bola berdasarkan ukuran diameter**"
      ]
    },
    {
      "cell_type": "code",
      "metadata": {
        "colab": {
          "base_uri": "https://localhost:8080/"
        },
        "id": "F7W7K01osROW",
        "outputId": "8c4a4912-ff75-4d15-fd49-20a243b59180"
      },
      "source": [
        "diameter_bola = np.array([7, 13, 15]). reshape(-1, 1)\n",
        "diameter_bola"
      ],
      "execution_count": 50,
      "outputs": [
        {
          "output_type": "execute_result",
          "data": {
            "text/plain": [
              "array([[ 7],\n",
              "       [13],\n",
              "       [15]])"
            ]
          },
          "metadata": {},
          "execution_count": 50
        }
      ]
    },
    {
      "cell_type": "code",
      "metadata": {
        "colab": {
          "base_uri": "https://localhost:8080/"
        },
        "id": "SG8unFfrszN_",
        "outputId": "be5c3394-a55e-484e-e4c1-818c6bcd6624"
      },
      "source": [
        "prediksi_harga = model.predict(diameter_bola)\n",
        "prediksi_harga"
      ],
      "execution_count": 51,
      "outputs": [
        {
          "output_type": "execute_result",
          "data": {
            "text/plain": [
              "array([ 8.58405172, 15.32112069, 17.56681034])"
            ]
          },
          "metadata": {},
          "execution_count": 51
        }
      ]
    },
    {
      "cell_type": "code",
      "metadata": {
        "colab": {
          "base_uri": "https://localhost:8080/"
        },
        "id": "r6MlbG1Js9VY",
        "outputId": "62e25f5f-549c-4181-b19f-7a2f90a756d2"
      },
      "source": [
        "for dmtr, hrg in zip(diameter_bola, prediksi_harga):\n",
        "  print(f'Diameter : {dmtr} prediksi harga : {hrg}')"
      ],
      "execution_count": 52,
      "outputs": [
        {
          "output_type": "stream",
          "name": "stdout",
          "text": [
            "Diameter : [7] prediksi harga : 8.584051724137934\n",
            "Diameter : [13] prediksi harga : 15.321120689655174\n",
            "Diameter : [15] prediksi harga : 17.566810344827587\n"
          ]
        }
      ]
    },
    {
      "cell_type": "markdown",
      "metadata": {
        "id": "BaoflRpNtmZh"
      },
      "source": [
        "**Evaluasi simple linier regression model training & testing dataset**"
      ]
    },
    {
      "cell_type": "code",
      "metadata": {
        "id": "NlD5i5vdtkzy"
      },
      "source": [
        "X_train = np.array([6, 8, 10, 14, 18]).reshape(-1, 1)\n",
        "y_train = np.array([7, 9, 13, 17.5, 20])\n",
        "\n",
        "X_test = np.array([8, 9, 11, 16, 12]).reshape(-1,1)\n",
        "y_test = np.array([11, 8.5, 15, 18, 11])"
      ],
      "execution_count": 53,
      "outputs": []
    },
    {
      "cell_type": "markdown",
      "metadata": {
        "id": "lVoOPK43ujd5"
      },
      "source": [
        "**Training simple linear regression model**"
      ]
    },
    {
      "cell_type": "code",
      "metadata": {
        "colab": {
          "base_uri": "https://localhost:8080/"
        },
        "id": "Z_q8V1ahueGF",
        "outputId": "e0081189-b3b6-4d94-b93b-21bb4fc1f8f5"
      },
      "source": [
        "model = LinearRegression()\n",
        "model.fit(X_train, y_train)"
      ],
      "execution_count": 54,
      "outputs": [
        {
          "output_type": "execute_result",
          "data": {
            "text/plain": [
              "LinearRegression(copy_X=True, fit_intercept=True, n_jobs=None, normalize=False)"
            ]
          },
          "metadata": {},
          "execution_count": 54
        }
      ]
    },
    {
      "cell_type": "markdown",
      "metadata": {
        "id": "8O71OMGbvsZY"
      },
      "source": [
        "**Evaluasi linear regression model dengan coefficiten of determination atau R-squared**"
      ]
    },
    {
      "cell_type": "code",
      "metadata": {
        "colab": {
          "base_uri": "https://localhost:8080/"
        },
        "id": "fJjx8tENvd4A",
        "outputId": "e8ebb3a9-c1be-4e1e-ce3e-5c8863b0de9a"
      },
      "source": [
        "from sklearn.metrics import r2_score\n",
        "\n",
        "y_pred = model.predict(X_test)\n",
        "\n",
        "r_squared = r2_score(y_test, y_pred)\n",
        "print(f'R-squared: {r_squared}')"
      ],
      "execution_count": 55,
      "outputs": [
        {
          "output_type": "stream",
          "name": "stdout",
          "text": [
            "R-squared: 0.6213315163349296\n"
          ]
        }
      ]
    },
    {
      "cell_type": "code",
      "metadata": {
        "id": "KrSy23PowYnU"
      },
      "source": [
        ""
      ],
      "execution_count": 55,
      "outputs": []
    }
  ]
}