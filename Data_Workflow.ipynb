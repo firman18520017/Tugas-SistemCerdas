{
 "cells": [
  {
   "cell_type": "code",
   "execution_count": 2,
   "id": "775bcac6",
   "metadata": {},
   "outputs": [],
   "source": [
    "#Gathering Data / Persiapan Dataset\n",
    "\n",
    "#Load Sample Dataset : Iris Dataset\n",
    "\n",
    "from sklearn.datasets import load_iris\n",
    "\n",
    "iris = load_iris()\n",
    "\n",
    "X = iris.data\n",
    "y = iris.target"
   ]
  },
  {
   "cell_type": "code",
   "execution_count": 3,
   "id": "5ff1f7dc",
   "metadata": {},
   "outputs": [],
   "source": [
    "#Splitting Dataset : Training & Testing Dataset\n",
    "\n",
    "from sklearn.model_selection import train_test_split\n",
    "\n",
    "#fungsi train_test_split akan menjadi 4 variabel\n",
    "X_train, X_test, y_train, y_test = train_test_split(X,\n",
    "                                                   y,\n",
    "                                                   test_size=0.4,\n",
    "                                                   random_state=1\n",
    "                                                   )"
   ]
  },
  {
   "cell_type": "code",
   "execution_count": 6,
   "id": "00a60c04",
   "metadata": {},
   "outputs": [
    {
     "data": {
      "text/plain": [
       "KNeighborsClassifier(n_neighbors=3)"
      ]
     },
     "execution_count": 6,
     "metadata": {},
     "output_type": "execute_result"
    }
   ],
   "source": [
    "from sklearn.neighbors import KNeighborsClassifier\n",
    "\n",
    "model = KNeighborsClassifier(n_neighbors=3)\n",
    "model.fit(X_train, y_train)"
   ]
  },
  {
   "cell_type": "code",
   "execution_count": 7,
   "id": "f42ef803",
   "metadata": {},
   "outputs": [
    {
     "name": "stdout",
     "output_type": "stream",
     "text": [
      "Accuracy: 0.9833333333333333\n"
     ]
    }
   ],
   "source": [
    "#Evaluasi Model\n",
    "\n",
    "from sklearn.metrics import accuracy_score\n",
    "\n",
    "y_pred = model.predict(X_test)\n",
    "acc = accuracy_score(y_test, y_pred)\n",
    "print(f'Accuracy: {acc}')"
   ]
  },
  {
   "cell_type": "code",
   "execution_count": 8,
   "id": "ab12ca01",
   "metadata": {},
   "outputs": [],
   "source": [
    "#Pemanfaatan Trained Model"
   ]
  },
  {
   "cell_type": "code",
   "execution_count": 9,
   "id": "e7b8ce3e",
   "metadata": {},
   "outputs": [
    {
     "data": {
      "text/plain": [
       "array([1, 2])"
      ]
     },
     "execution_count": 9,
     "metadata": {},
     "output_type": "execute_result"
    }
   ],
   "source": [
    "data_baru = [[5, 5, 3, 2],\n",
    "            [2, 4, 3, 5]]\n",
    "\n",
    "preds = model.predict(data_baru)\n",
    "preds"
   ]
  },
  {
   "cell_type": "code",
   "execution_count": 10,
   "id": "27825ff8",
   "metadata": {},
   "outputs": [
    {
     "name": "stdout",
     "output_type": "stream",
     "text": [
      "Hasil Prediksi : ['versicolor', 'virginica']\n"
     ]
    }
   ],
   "source": [
    "pred_species = [iris.target_names[p] for p in preds]\n",
    "print(f'Hasil Prediksi : {pred_species}')"
   ]
  },
  {
   "cell_type": "code",
   "execution_count": 11,
   "id": "86390e33",
   "metadata": {},
   "outputs": [],
   "source": [
    "#Dump & Load Trained Model"
   ]
  },
  {
   "cell_type": "code",
   "execution_count": 12,
   "id": "b6fb2707",
   "metadata": {},
   "outputs": [
    {
     "data": {
      "text/plain": [
       "['iris_classifier_knn.joblib']"
      ]
     },
     "execution_count": 12,
     "metadata": {},
     "output_type": "execute_result"
    }
   ],
   "source": [
    "import joblib\n",
    "\n",
    "joblib.dump(model, 'iris_classifier_knn.joblib')"
   ]
  },
  {
   "cell_type": "code",
   "execution_count": 14,
   "id": "19da5ce0",
   "metadata": {},
   "outputs": [],
   "source": [
    "#Loading Model Machine Learning menjadi file joblib\n",
    "\n",
    "production_model = joblib.load('iris_classifier_knn.joblib')"
   ]
  },
  {
   "cell_type": "code",
   "execution_count": null,
   "id": "e7675929",
   "metadata": {},
   "outputs": [],
   "source": []
  }
 ],
 "metadata": {
  "kernelspec": {
   "display_name": "Python 3",
   "language": "python",
   "name": "python3"
  },
  "language_info": {
   "codemirror_mode": {
    "name": "ipython",
    "version": 3
   },
   "file_extension": ".py",
   "mimetype": "text/x-python",
   "name": "python",
   "nbconvert_exporter": "python",
   "pygments_lexer": "ipython3",
   "version": "3.8.8"
  }
 },
 "nbformat": 4,
 "nbformat_minor": 5
}
